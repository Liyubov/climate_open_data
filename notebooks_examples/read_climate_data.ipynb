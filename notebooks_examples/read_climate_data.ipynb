{
 "cells": [
  {
   "cell_type": "markdown",
   "metadata": {},
   "source": [
    "# Read and plot climate data \n",
    "\n",
    "Source of climate data:\n",
    "1. https://disc.gsfc.nasa.gov/ \n",
    "2. https://www.esrl.noaa.gov/psd/data/gridded/data.ncep.reanalysis.html"
   ]
  },
  {
   "cell_type": "code",
   "execution_count": 2,
   "metadata": {},
   "outputs": [],
   "source": [
    "import pandas as pd\n",
    "import xarray as xr\n",
    "import matplotlib.pyplot as plt\n",
    "import cartopy.crs as ccrs\n"
   ]
  },
  {
   "cell_type": "code",
   "execution_count": 7,
   "metadata": {},
   "outputs": [
    {
     "name": "stdout",
     "output_type": "stream",
     "text": [
      "<class 'xarray.core.dataarray.DataArray'>\n"
     ]
    },
    {
     "name": "stderr",
     "output_type": "stream",
     "text": [
      "C:\\Users\\lyubo\\Anaconda3\\envs\\default\\lib\\site-packages\\xarray\\core\\nanops.py:142: RuntimeWarning: Mean of empty slice\n",
      "  return np.nanmean(a, axis=axis, dtype=dtype)\n"
     ]
    },
    {
     "data": {
      "image/png": "[encoded data removed]",
      "text/plain": [
       "<Figure size 432x288 with 2 Axes>"
      ]
     },
     "metadata": {
      "needs_background": "light"
     },
     "output_type": "display_data"
    }
   ],
   "source": [
    "\n",
    "# Start and end dates\n",
    "start_date = '1906-01-01' #'2010-01-01' #\n",
    "end_date ='1919-01-01' #'2011-01-01' # \n",
    "\n",
    "# Configuration\n",
    "variable_name = 'tasmax'\n",
    "ds_name = 'hadukgrid'\n",
    "area = 'uk'\n",
    "horizontal_resolution = '60km'\n",
    "frequency = 'mon'\n",
    "file_fmt = 'nc'\n",
    "date_fmt = '%Y%m'\n",
    "proj_name = 'transverse_mercator'\n",
    "\n",
    "# Define dates\n",
    "start = pd.Timestamp(start_date)\n",
    "end = pd.Timestamp(end_date)\n",
    "dates = pd.date_range(start=start, end=end, freq='AS')\n",
    "\n",
    "# Loop over years\n",
    "ds = xr.Dataset()\n",
    "\n",
    "folder= \"C:/Users/lyubo/Documents/DATA_networks/climate_data/\"\n",
    "for k, date in enumerate(dates[:-1]):\n",
    "    # Define path to year of data\n",
    "    date0_str = date.strftime(date_fmt)\n",
    "    datef_str = (dates[k + 1] - pd.Timedelta('2 days')).strftime(date_fmt)\n",
    "    filepath = folder + '{}_{}_{}_{}_{}_{}-{}.{}'.format(\n",
    "        variable_name, ds_name, area, horizontal_resolution, frequency,\n",
    "        date0_str, datef_str, file_fmt)\n",
    "\n",
    "    # Read data array\n",
    "    ds_date = xr.open_dataset(filepath)\n",
    "\n",
    "    # Add year to dataset\n",
    "    ds = ds.merge(ds_date)\n",
    "\n",
    "# Get data array\n",
    "da = ds[variable_name]\n",
    "\n",
    "# Get time mean\n",
    "da_time_mean = da.mean('time')\n",
    "print(type(da_time_mean))\n",
    "\n",
    "# Get dataset projection\n",
    "proj = ds[proj_name]\n",
    "proj_params = dict(\n",
    "    central_longitude=proj.attrs['longitude_of_central_meridian'],\n",
    "    central_latitude=proj.attrs['latitude_of_projection_origin'],\n",
    "    false_easting=proj.attrs['false_easting'],\n",
    "    false_northing=proj.attrs['false_northing'],\n",
    "    scale_factor=proj.attrs['scale_factor_at_central_meridian'])\n",
    "crs = ccrs.TransverseMercator(**proj_params)\n",
    "\n",
    "# Create axes for projection\n",
    "fig = plt.figure()\n",
    "ax = plt.axes(projection=crs)\n",
    "\n",
    "# Plot mean\n",
    "da_time_mean.plot(transform=crs)\n",
    "\n",
    "# Draw coastlines\n",
    "ax.coastlines()\n",
    "\n",
    "# Show plots\n",
    "plt.show(block=False)\n"
   ]
  },
  {
   "cell_type": "markdown",
   "metadata": {},
   "source": [
    "# Get number of heatwaves days\n",
    "\n",
    "Here we need to extract temperature data above the average, e.g. detect heatwaves.\n",
    "\n",
    "Alternative way of reading NETCDF file is here:\n",
    "https://unidata.github.io/netcdf4-python/netCDF4/index.html\n",
    "   \n",
    "We take NETCDF file as an example of a typical climatological file."
   ]
  },
  {
   "cell_type": "code",
   "execution_count": 11,
   "metadata": {},
   "outputs": [
    {
     "name": "stdout",
     "output_type": "stream",
     "text": [
      "NETCDF4\n"
     ]
    }
   ],
   "source": [
    "from netCDF4 import Dataset\n",
    "rootgrp = Dataset(\"C:/Users/lyubo/Documents/DATA_networks/climate_data/tasmax_hadukgrid_uk_60km_mon_188701-188712.nc\", \"w\", format=\"NETCDF4\")#        tasmax_hadukgrid_uk_60km_mon_188401-188412\n",
    "print(rootgrp.data_model)\n",
    "\n",
    "\n",
    "#netcdf = read()"
   ]
  },
  {
   "cell_type": "code",
   "execution_count": 12,
   "metadata": {},
   "outputs": [
    {
     "name": "stdout",
     "output_type": "stream",
     "text": [
      "OrderedDict()\n"
     ]
    }
   ],
   "source": [
    "print(rootgrp.dimensions)"
   ]
  },
  {
   "cell_type": "code",
   "execution_count": 13,
   "metadata": {},
   "outputs": [],
   "source": [
    "for dimobj in rootgrp.dimensions.values():\n",
    "    print(dimobj)"
   ]
  },
  {
   "cell_type": "code",
   "execution_count": null,
   "metadata": {},
   "outputs": [],
   "source": []
  }
 ],
 "metadata": {
  "kernelspec": {
   "display_name": "Python 3",
   "language": "python",
   "name": "python3"
  },
  "language_info": {
   "codemirror_mode": {
    "name": "ipython",
    "version": 3
   },
   "file_extension": ".py",
   "mimetype": "text/x-python",
   "name": "python",
   "nbconvert_exporter": "python",
   "pygments_lexer": "ipython3",
   "version": "3.7.4"
  }
 },
 "nbformat": 4,
 "nbformat_minor": 2
}
